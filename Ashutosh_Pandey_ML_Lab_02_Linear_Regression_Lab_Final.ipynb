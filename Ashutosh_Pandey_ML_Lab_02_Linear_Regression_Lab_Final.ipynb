{
  "cells": [
    {
      "cell_type": "markdown",
      "metadata": {
        "id": "view-in-github",
        "colab_type": "text"
      },
      "source": [
        "<a href=\"https://colab.research.google.com/github/Pandey-A/ml-labs/blob/main/Ashutosh_Pandey_ML_Lab_02_Linear_Regression_Lab_Final.ipynb\" target=\"_parent\"><img src=\"https://colab.research.google.com/assets/colab-badge.svg\" alt=\"Open In Colab\"/></a>"
      ]
    },
    {
      "cell_type": "markdown",
      "id": "23cd9705",
      "metadata": {
        "id": "23cd9705"
      },
      "source": [
        "# 📘 **<font color='blue'><b>Lab-02 Linear Regression**\n",
        "\n",
        "Welcome to the **Linear Regression Lab**! In this lab exercise, you'll implement linear regression to predict value of target variable using one and multiple variables.\n",
        "\n",
        "---\n",
        "\n",
        "## 📖  **<font color='blue'><b>Part 0: Setup & Warm-up**\n",
        "\n",
        "In this part, you'll import libraries, load data, and do a warm-up exercise."
      ]
    },
    {
      "cell_type": "code",
      "execution_count": 40,
      "id": "0e308f0d",
      "metadata": {
        "id": "0e308f0d"
      },
      "outputs": [],
      "source": [
        "# =========== Setup ===============\n",
        "import numpy as np\n",
        "import pandas as pd\n",
        "import matplotlib.pyplot as plt\n",
        "\n",
        "# Enable better plots in notebooks\n",
        "plt.style.use('seaborn-v0_8-darkgrid')\n",
        "%matplotlib inline"
      ]
    },
    {
      "cell_type": "markdown",
      "id": "5d70c71c",
      "metadata": {
        "id": "5d70c71c"
      },
      "source": [
        "### ✅ Warm-Up Exercise\n",
        "\n",
        "Run this cell to generate a 5x5 identity matrix. This is a simple way to check that your environment is set up correctly."
      ]
    },
    {
      "cell_type": "code",
      "execution_count": 41,
      "id": "fcdcfb3d",
      "metadata": {
        "id": "fcdcfb3d",
        "colab": {
          "base_uri": "https://localhost:8080/"
        },
        "outputId": "83ea5001-3b80-44bb-8348-32b5ffe857b9"
      },
      "outputs": [
        {
          "output_type": "stream",
          "name": "stdout",
          "text": [
            "5x5 Identity Matrix:\n",
            "[[1. 0. 0. 0. 0.]\n",
            " [0. 1. 0. 0. 0.]\n",
            " [0. 0. 1. 0. 0.]\n",
            " [0. 0. 0. 1. 0.]\n",
            " [0. 0. 0. 0. 1.]]\n"
          ]
        }
      ],
      "source": [
        "# ========== Warm-up Exercise ==========\n",
        "\n",
        "def warmUpExercise():\n",
        "    \"\"\"Returns a 5x5 Identity matrix\"\"\"\n",
        "    A = np.eye(5)\n",
        "    return A\n",
        "\n",
        "# Run it\n",
        "print(\"5x5 Identity Matrix:\")\n",
        "print(warmUpExercise())"
      ]
    },
    {
      "cell_type": "markdown",
      "id": "1d83cdd2",
      "metadata": {
        "id": "1d83cdd2"
      },
      "source": [
        "---\n",
        "\n",
        "## 📖  **<font color='blue'><b>Part 1: Linear Regression with One Variable**\n",
        "\n",
        "In this section, you will implement linear regression to predict the profit of a food truck in a city.\n",
        "\n",
        "### 📊 Problem Statement\n",
        "\n",
        "Suppose you are the CEO of a restaurant franchise and are considering different citiesfor opening a new outlet.  The chain already has trucks in various cities and\n",
        "you have data for **profit** and **population** from the cities. The data is in `ex2data1.csv`.\n",
        "\n",
        "Your task is to fit a **univariate linear regression model** to predict profit based on population."
      ]
    },
    {
      "cell_type": "markdown",
      "id": "4240782b",
      "metadata": {
        "id": "4240782b"
      },
      "source": [
        "### 📈 Dataset Visualization\n",
        "\n",
        "Let’s load and plot the dataset to understand the relationship."
      ]
    },
    {
      "cell_type": "code",
      "execution_count": 42,
      "id": "d2dcd802",
      "metadata": {
        "collapsed": true,
        "id": "d2dcd802",
        "colab": {
          "base_uri": "https://localhost:8080/",
          "height": 206
        },
        "outputId": "be4f4506-3bb3-42a4-9061-76a88e301e3f"
      },
      "outputs": [
        {
          "output_type": "execute_result",
          "data": {
            "text/plain": [
              "   Population   Profit\n",
              "0      6.1101  17.5920\n",
              "1      5.5277   9.1302\n",
              "2      8.5186  13.6620\n",
              "3      7.0032  11.8540\n",
              "4      5.8598   6.8233"
            ],
            "text/html": [
              "\n",
              "  <div id=\"df-9833b9bd-cb74-433c-9144-a673b7640b75\" class=\"colab-df-container\">\n",
              "    <div>\n",
              "<style scoped>\n",
              "    .dataframe tbody tr th:only-of-type {\n",
              "        vertical-align: middle;\n",
              "    }\n",
              "\n",
              "    .dataframe tbody tr th {\n",
              "        vertical-align: top;\n",
              "    }\n",
              "\n",
              "    .dataframe thead th {\n",
              "        text-align: right;\n",
              "    }\n",
              "</style>\n",
              "<table border=\"1\" class=\"dataframe\">\n",
              "  <thead>\n",
              "    <tr style=\"text-align: right;\">\n",
              "      <th></th>\n",
              "      <th>Population</th>\n",
              "      <th>Profit</th>\n",
              "    </tr>\n",
              "  </thead>\n",
              "  <tbody>\n",
              "    <tr>\n",
              "      <th>0</th>\n",
              "      <td>6.1101</td>\n",
              "      <td>17.5920</td>\n",
              "    </tr>\n",
              "    <tr>\n",
              "      <th>1</th>\n",
              "      <td>5.5277</td>\n",
              "      <td>9.1302</td>\n",
              "    </tr>\n",
              "    <tr>\n",
              "      <th>2</th>\n",
              "      <td>8.5186</td>\n",
              "      <td>13.6620</td>\n",
              "    </tr>\n",
              "    <tr>\n",
              "      <th>3</th>\n",
              "      <td>7.0032</td>\n",
              "      <td>11.8540</td>\n",
              "    </tr>\n",
              "    <tr>\n",
              "      <th>4</th>\n",
              "      <td>5.8598</td>\n",
              "      <td>6.8233</td>\n",
              "    </tr>\n",
              "  </tbody>\n",
              "</table>\n",
              "</div>\n",
              "    <div class=\"colab-df-buttons\">\n",
              "\n",
              "  <div class=\"colab-df-container\">\n",
              "    <button class=\"colab-df-convert\" onclick=\"convertToInteractive('df-9833b9bd-cb74-433c-9144-a673b7640b75')\"\n",
              "            title=\"Convert this dataframe to an interactive table.\"\n",
              "            style=\"display:none;\">\n",
              "\n",
              "  <svg xmlns=\"http://www.w3.org/2000/svg\" height=\"24px\" viewBox=\"0 -960 960 960\">\n",
              "    <path d=\"M120-120v-720h720v720H120Zm60-500h600v-160H180v160Zm220 220h160v-160H400v160Zm0 220h160v-160H400v160ZM180-400h160v-160H180v160Zm440 0h160v-160H620v160ZM180-180h160v-160H180v160Zm440 0h160v-160H620v160Z\"/>\n",
              "  </svg>\n",
              "    </button>\n",
              "\n",
              "  <style>\n",
              "    .colab-df-container {\n",
              "      display:flex;\n",
              "      gap: 12px;\n",
              "    }\n",
              "\n",
              "    .colab-df-convert {\n",
              "      background-color: #E8F0FE;\n",
              "      border: none;\n",
              "      border-radius: 50%;\n",
              "      cursor: pointer;\n",
              "      display: none;\n",
              "      fill: #1967D2;\n",
              "      height: 32px;\n",
              "      padding: 0 0 0 0;\n",
              "      width: 32px;\n",
              "    }\n",
              "\n",
              "    .colab-df-convert:hover {\n",
              "      background-color: #E2EBFA;\n",
              "      box-shadow: 0px 1px 2px rgba(60, 64, 67, 0.3), 0px 1px 3px 1px rgba(60, 64, 67, 0.15);\n",
              "      fill: #174EA6;\n",
              "    }\n",
              "\n",
              "    .colab-df-buttons div {\n",
              "      margin-bottom: 4px;\n",
              "    }\n",
              "\n",
              "    [theme=dark] .colab-df-convert {\n",
              "      background-color: #3B4455;\n",
              "      fill: #D2E3FC;\n",
              "    }\n",
              "\n",
              "    [theme=dark] .colab-df-convert:hover {\n",
              "      background-color: #434B5C;\n",
              "      box-shadow: 0px 1px 3px 1px rgba(0, 0, 0, 0.15);\n",
              "      filter: drop-shadow(0px 1px 2px rgba(0, 0, 0, 0.3));\n",
              "      fill: #FFFFFF;\n",
              "    }\n",
              "  </style>\n",
              "\n",
              "    <script>\n",
              "      const buttonEl =\n",
              "        document.querySelector('#df-9833b9bd-cb74-433c-9144-a673b7640b75 button.colab-df-convert');\n",
              "      buttonEl.style.display =\n",
              "        google.colab.kernel.accessAllowed ? 'block' : 'none';\n",
              "\n",
              "      async function convertToInteractive(key) {\n",
              "        const element = document.querySelector('#df-9833b9bd-cb74-433c-9144-a673b7640b75');\n",
              "        const dataTable =\n",
              "          await google.colab.kernel.invokeFunction('convertToInteractive',\n",
              "                                                    [key], {});\n",
              "        if (!dataTable) return;\n",
              "\n",
              "        const docLinkHtml = 'Like what you see? Visit the ' +\n",
              "          '<a target=\"_blank\" href=https://colab.research.google.com/notebooks/data_table.ipynb>data table notebook</a>'\n",
              "          + ' to learn more about interactive tables.';\n",
              "        element.innerHTML = '';\n",
              "        dataTable['output_type'] = 'display_data';\n",
              "        await google.colab.output.renderOutput(dataTable, element);\n",
              "        const docLink = document.createElement('div');\n",
              "        docLink.innerHTML = docLinkHtml;\n",
              "        element.appendChild(docLink);\n",
              "      }\n",
              "    </script>\n",
              "  </div>\n",
              "\n",
              "\n",
              "    <div id=\"df-1498b09f-1ee6-4df6-9922-fdbf3346c83f\">\n",
              "      <button class=\"colab-df-quickchart\" onclick=\"quickchart('df-1498b09f-1ee6-4df6-9922-fdbf3346c83f')\"\n",
              "                title=\"Suggest charts\"\n",
              "                style=\"display:none;\">\n",
              "\n",
              "<svg xmlns=\"http://www.w3.org/2000/svg\" height=\"24px\"viewBox=\"0 0 24 24\"\n",
              "     width=\"24px\">\n",
              "    <g>\n",
              "        <path d=\"M19 3H5c-1.1 0-2 .9-2 2v14c0 1.1.9 2 2 2h14c1.1 0 2-.9 2-2V5c0-1.1-.9-2-2-2zM9 17H7v-7h2v7zm4 0h-2V7h2v10zm4 0h-2v-4h2v4z\"/>\n",
              "    </g>\n",
              "</svg>\n",
              "      </button>\n",
              "\n",
              "<style>\n",
              "  .colab-df-quickchart {\n",
              "      --bg-color: #E8F0FE;\n",
              "      --fill-color: #1967D2;\n",
              "      --hover-bg-color: #E2EBFA;\n",
              "      --hover-fill-color: #174EA6;\n",
              "      --disabled-fill-color: #AAA;\n",
              "      --disabled-bg-color: #DDD;\n",
              "  }\n",
              "\n",
              "  [theme=dark] .colab-df-quickchart {\n",
              "      --bg-color: #3B4455;\n",
              "      --fill-color: #D2E3FC;\n",
              "      --hover-bg-color: #434B5C;\n",
              "      --hover-fill-color: #FFFFFF;\n",
              "      --disabled-bg-color: #3B4455;\n",
              "      --disabled-fill-color: #666;\n",
              "  }\n",
              "\n",
              "  .colab-df-quickchart {\n",
              "    background-color: var(--bg-color);\n",
              "    border: none;\n",
              "    border-radius: 50%;\n",
              "    cursor: pointer;\n",
              "    display: none;\n",
              "    fill: var(--fill-color);\n",
              "    height: 32px;\n",
              "    padding: 0;\n",
              "    width: 32px;\n",
              "  }\n",
              "\n",
              "  .colab-df-quickchart:hover {\n",
              "    background-color: var(--hover-bg-color);\n",
              "    box-shadow: 0 1px 2px rgba(60, 64, 67, 0.3), 0 1px 3px 1px rgba(60, 64, 67, 0.15);\n",
              "    fill: var(--button-hover-fill-color);\n",
              "  }\n",
              "\n",
              "  .colab-df-quickchart-complete:disabled,\n",
              "  .colab-df-quickchart-complete:disabled:hover {\n",
              "    background-color: var(--disabled-bg-color);\n",
              "    fill: var(--disabled-fill-color);\n",
              "    box-shadow: none;\n",
              "  }\n",
              "\n",
              "  .colab-df-spinner {\n",
              "    border: 2px solid var(--fill-color);\n",
              "    border-color: transparent;\n",
              "    border-bottom-color: var(--fill-color);\n",
              "    animation:\n",
              "      spin 1s steps(1) infinite;\n",
              "  }\n",
              "\n",
              "  @keyframes spin {\n",
              "    0% {\n",
              "      border-color: transparent;\n",
              "      border-bottom-color: var(--fill-color);\n",
              "      border-left-color: var(--fill-color);\n",
              "    }\n",
              "    20% {\n",
              "      border-color: transparent;\n",
              "      border-left-color: var(--fill-color);\n",
              "      border-top-color: var(--fill-color);\n",
              "    }\n",
              "    30% {\n",
              "      border-color: transparent;\n",
              "      border-left-color: var(--fill-color);\n",
              "      border-top-color: var(--fill-color);\n",
              "      border-right-color: var(--fill-color);\n",
              "    }\n",
              "    40% {\n",
              "      border-color: transparent;\n",
              "      border-right-color: var(--fill-color);\n",
              "      border-top-color: var(--fill-color);\n",
              "    }\n",
              "    60% {\n",
              "      border-color: transparent;\n",
              "      border-right-color: var(--fill-color);\n",
              "    }\n",
              "    80% {\n",
              "      border-color: transparent;\n",
              "      border-right-color: var(--fill-color);\n",
              "      border-bottom-color: var(--fill-color);\n",
              "    }\n",
              "    90% {\n",
              "      border-color: transparent;\n",
              "      border-bottom-color: var(--fill-color);\n",
              "    }\n",
              "  }\n",
              "</style>\n",
              "\n",
              "      <script>\n",
              "        async function quickchart(key) {\n",
              "          const quickchartButtonEl =\n",
              "            document.querySelector('#' + key + ' button');\n",
              "          quickchartButtonEl.disabled = true;  // To prevent multiple clicks.\n",
              "          quickchartButtonEl.classList.add('colab-df-spinner');\n",
              "          try {\n",
              "            const charts = await google.colab.kernel.invokeFunction(\n",
              "                'suggestCharts', [key], {});\n",
              "          } catch (error) {\n",
              "            console.error('Error during call to suggestCharts:', error);\n",
              "          }\n",
              "          quickchartButtonEl.classList.remove('colab-df-spinner');\n",
              "          quickchartButtonEl.classList.add('colab-df-quickchart-complete');\n",
              "        }\n",
              "        (() => {\n",
              "          let quickchartButtonEl =\n",
              "            document.querySelector('#df-1498b09f-1ee6-4df6-9922-fdbf3346c83f button');\n",
              "          quickchartButtonEl.style.display =\n",
              "            google.colab.kernel.accessAllowed ? 'block' : 'none';\n",
              "        })();\n",
              "      </script>\n",
              "    </div>\n",
              "\n",
              "    </div>\n",
              "  </div>\n"
            ],
            "application/vnd.google.colaboratory.intrinsic+json": {
              "type": "dataframe",
              "variable_name": "data",
              "summary": "{\n  \"name\": \"data\",\n  \"rows\": 97,\n  \"fields\": [\n    {\n      \"column\": \"Population\",\n      \"properties\": {\n        \"dtype\": \"number\",\n        \"std\": 3.869883527882332,\n        \"min\": 5.0269,\n        \"max\": 22.203,\n        \"num_unique_values\": 97,\n        \"samples\": [\n          21.279,\n          5.4069,\n          5.3054\n        ],\n        \"semantic_type\": \"\",\n        \"description\": \"\"\n      }\n    },\n    {\n      \"column\": \"Profit\",\n      \"properties\": {\n        \"dtype\": \"number\",\n        \"std\": 5.510262255231544,\n        \"min\": -2.6807,\n        \"max\": 24.147,\n        \"num_unique_values\": 97,\n        \"samples\": [\n          17.929,\n          0.55657,\n          1.9869\n        ],\n        \"semantic_type\": \"\",\n        \"description\": \"\"\n      }\n    }\n  ]\n}"
            }
          },
          "metadata": {},
          "execution_count": 42
        }
      ],
      "source": [
        "# ========== Load Dataset ==========\n",
        "# TODO: Load ex2data1.csv for one variable linear regression\n",
        "data = pd.read_csv(\"/content/ex1data1.csv\", header=None, names=[\"Population\", \"Profit\"])\n",
        "data.describe()\n",
        "data.head()"
      ]
    },
    {
      "cell_type": "code",
      "source": [
        "# seperate the fetaures and the target variable in X and y respectively\n",
        "X = data[[\"Population\"]]\n",
        "y = data[[\"Profit\"]]\n",
        "m = len(y)     # number of training examples"
      ],
      "metadata": {
        "id": "PbjBQjwpDmsD"
      },
      "id": "PbjBQjwpDmsD",
      "execution_count": 43,
      "outputs": []
    },
    {
      "cell_type": "code",
      "source": [
        "# Visualize the data\n",
        "plt.figure(figsize=(8,5))\n",
        "plt.plot(X, y, 'rx', markersize=5)\n",
        "plt.xlabel('Population of City (10,000s)')\n",
        "plt.ylabel('Profit ($10,000s)')\n",
        "plt.title('Training Data')\n",
        "plt.show()"
      ],
      "metadata": {
        "id": "4Pru7WflDfL2",
        "colab": {
          "base_uri": "https://localhost:8080/",
          "height": 480
        },
        "outputId": "6e54139c-e3ab-4f10-bcd9-d3031618066e"
      },
      "id": "4Pru7WflDfL2",
      "execution_count": 44,
      "outputs": [
        {
          "output_type": "display_data",
          "data": {
            "text/plain": [
              "<Figure size 800x500 with 1 Axes>"
            ],
            "image/png": "[encoded data removed]"
          },
          "metadata": {}
        }
      ]
    },
    {
      "cell_type": "markdown",
      "source": [
        "# Prepare the data for vectorized implemenation"
      ],
      "metadata": {
        "id": "vHIt1wczDDEA"
      },
      "id": "vHIt1wczDDEA"
    },
    {
      "cell_type": "code",
      "source": [
        "#Add intercept term to X and convert it into numpy array\n",
        "#insert a column of ones at the zeroth index in the feature matrix X\n",
        "A = pd.concat([X,y],axis=1)\n"
      ],
      "metadata": {
        "collapsed": true,
        "id": "Jm1vY2_9DMb9"
      },
      "id": "Jm1vY2_9DMb9",
      "execution_count": 45,
      "outputs": []
    },
    {
      "cell_type": "code",
      "source": [
        "X.insert(0,'ones',1)\n"
      ],
      "metadata": {
        "id": "jEpUQghoK4QD"
      },
      "id": "jEpUQghoK4QD",
      "execution_count": 46,
      "outputs": []
    },
    {
      "cell_type": "code",
      "source": [
        "X"
      ],
      "metadata": {
        "id": "BOWD3590EEfe",
        "colab": {
          "base_uri": "https://localhost:8080/",
          "height": 424
        },
        "outputId": "af7b9fca-8062-4594-e61f-798c5a72bba3"
      },
      "id": "BOWD3590EEfe",
      "execution_count": 47,
      "outputs": [
        {
          "output_type": "execute_result",
          "data": {
            "text/plain": [
              "    ones  Population\n",
              "0      1      6.1101\n",
              "1      1      5.5277\n",
              "2      1      8.5186\n",
              "3      1      7.0032\n",
              "4      1      5.8598\n",
              "..   ...         ...\n",
              "92     1      5.8707\n",
              "93     1      5.3054\n",
              "94     1      8.2934\n",
              "95     1     13.3940\n",
              "96     1      5.4369\n",
              "\n",
              "[97 rows x 2 columns]"
            ],
            "text/html": [
              "\n",
              "  <div id=\"df-3fd74d78-c280-498c-87bf-a61e8d897206\" class=\"colab-df-container\">\n",
              "    <div>\n",
              "<style scoped>\n",
              "    .dataframe tbody tr th:only-of-type {\n",
              "        vertical-align: middle;\n",
              "    }\n",
              "\n",
              "    .dataframe tbody tr th {\n",
              "        vertical-align: top;\n",
              "    }\n",
              "\n",
              "    .dataframe thead th {\n",
              "        text-align: right;\n",
              "    }\n",
              "</style>\n",
              "<table border=\"1\" class=\"dataframe\">\n",
              "  <thead>\n",
              "    <tr style=\"text-align: right;\">\n",
              "      <th></th>\n",
              "      <th>ones</th>\n",
              "      <th>Population</th>\n",
              "    </tr>\n",
              "  </thead>\n",
              "  <tbody>\n",
              "    <tr>\n",
              "      <th>0</th>\n",
              "      <td>1</td>\n",
              "      <td>6.1101</td>\n",
              "    </tr>\n",
              "    <tr>\n",
              "      <th>1</th>\n",
              "      <td>1</td>\n",
              "      <td>5.5277</td>\n",
              "    </tr>\n",
              "    <tr>\n",
              "      <th>2</th>\n",
              "      <td>1</td>\n",
              "      <td>8.5186</td>\n",
              "    </tr>\n",
              "    <tr>\n",
              "      <th>3</th>\n",
              "      <td>1</td>\n",
              "      <td>7.0032</td>\n",
              "    </tr>\n",
              "    <tr>\n",
              "      <th>4</th>\n",
              "      <td>1</td>\n",
              "      <td>5.8598</td>\n",
              "    </tr>\n",
              "    <tr>\n",
              "      <th>...</th>\n",
              "      <td>...</td>\n",
              "      <td>...</td>\n",
              "    </tr>\n",
              "    <tr>\n",
              "      <th>92</th>\n",
              "      <td>1</td>\n",
              "      <td>5.8707</td>\n",
              "    </tr>\n",
              "    <tr>\n",
              "      <th>93</th>\n",
              "      <td>1</td>\n",
              "      <td>5.3054</td>\n",
              "    </tr>\n",
              "    <tr>\n",
              "      <th>94</th>\n",
              "      <td>1</td>\n",
              "      <td>8.2934</td>\n",
              "    </tr>\n",
              "    <tr>\n",
              "      <th>95</th>\n",
              "      <td>1</td>\n",
              "      <td>13.3940</td>\n",
              "    </tr>\n",
              "    <tr>\n",
              "      <th>96</th>\n",
              "      <td>1</td>\n",
              "      <td>5.4369</td>\n",
              "    </tr>\n",
              "  </tbody>\n",
              "</table>\n",
              "<p>97 rows × 2 columns</p>\n",
              "</div>\n",
              "    <div class=\"colab-df-buttons\">\n",
              "\n",
              "  <div class=\"colab-df-container\">\n",
              "    <button class=\"colab-df-convert\" onclick=\"convertToInteractive('df-3fd74d78-c280-498c-87bf-a61e8d897206')\"\n",
              "            title=\"Convert this dataframe to an interactive table.\"\n",
              "            style=\"display:none;\">\n",
              "\n",
              "  <svg xmlns=\"http://www.w3.org/2000/svg\" height=\"24px\" viewBox=\"0 -960 960 960\">\n",
              "    <path d=\"M120-120v-720h720v720H120Zm60-500h600v-160H180v160Zm220 220h160v-160H400v160Zm0 220h160v-160H400v160ZM180-400h160v-160H180v160Zm440 0h160v-160H620v160ZM180-180h160v-160H180v160Zm440 0h160v-160H620v160Z\"/>\n",
              "  </svg>\n",
              "    </button>\n",
              "\n",
              "  <style>\n",
              "    .colab-df-container {\n",
              "      display:flex;\n",
              "      gap: 12px;\n",
              "    }\n",
              "\n",
              "    .colab-df-convert {\n",
              "      background-color: #E8F0FE;\n",
              "      border: none;\n",
              "      border-radius: 50%;\n",
              "      cursor: pointer;\n",
              "      display: none;\n",
              "      fill: #1967D2;\n",
              "      height: 32px;\n",
              "      padding: 0 0 0 0;\n",
              "      width: 32px;\n",
              "    }\n",
              "\n",
              "    .colab-df-convert:hover {\n",
              "      background-color: #E2EBFA;\n",
              "      box-shadow: 0px 1px 2px rgba(60, 64, 67, 0.3), 0px 1px 3px 1px rgba(60, 64, 67, 0.15);\n",
              "      fill: #174EA6;\n",
              "    }\n",
              "\n",
              "    .colab-df-buttons div {\n",
              "      margin-bottom: 4px;\n",
              "    }\n",
              "\n",
              "    [theme=dark] .colab-df-convert {\n",
              "      background-color: #3B4455;\n",
              "      fill: #D2E3FC;\n",
              "    }\n",
              "\n",
              "    [theme=dark] .colab-df-convert:hover {\n",
              "      background-color: #434B5C;\n",
              "      box-shadow: 0px 1px 3px 1px rgba(0, 0, 0, 0.15);\n",
              "      filter: drop-shadow(0px 1px 2px rgba(0, 0, 0, 0.3));\n",
              "      fill: #FFFFFF;\n",
              "    }\n",
              "  </style>\n",
              "\n",
              "    <script>\n",
              "      const buttonEl =\n",
              "        document.querySelector('#df-3fd74d78-c280-498c-87bf-a61e8d897206 button.colab-df-convert');\n",
              "      buttonEl.style.display =\n",
              "        google.colab.kernel.accessAllowed ? 'block' : 'none';\n",
              "\n",
              "      async function convertToInteractive(key) {\n",
              "        const element = document.querySelector('#df-3fd74d78-c280-498c-87bf-a61e8d897206');\n",
              "        const dataTable =\n",
              "          await google.colab.kernel.invokeFunction('convertToInteractive',\n",
              "                                                    [key], {});\n",
              "        if (!dataTable) return;\n",
              "\n",
              "        const docLinkHtml = 'Like what you see? Visit the ' +\n",
              "          '<a target=\"_blank\" href=https://colab.research.google.com/notebooks/data_table.ipynb>data table notebook</a>'\n",
              "          + ' to learn more about interactive tables.';\n",
              "        element.innerHTML = '';\n",
              "        dataTable['output_type'] = 'display_data';\n",
              "        await google.colab.output.renderOutput(dataTable, element);\n",
              "        const docLink = document.createElement('div');\n",
              "        docLink.innerHTML = docLinkHtml;\n",
              "        element.appendChild(docLink);\n",
              "      }\n",
              "    </script>\n",
              "  </div>\n",
              "\n",
              "\n",
              "    <div id=\"df-8a072ff7-55bc-4aaf-a556-4656574f2fe0\">\n",
              "      <button class=\"colab-df-quickchart\" onclick=\"quickchart('df-8a072ff7-55bc-4aaf-a556-4656574f2fe0')\"\n",
              "                title=\"Suggest charts\"\n",
              "                style=\"display:none;\">\n",
              "\n",
              "<svg xmlns=\"http://www.w3.org/2000/svg\" height=\"24px\"viewBox=\"0 0 24 24\"\n",
              "     width=\"24px\">\n",
              "    <g>\n",
              "        <path d=\"M19 3H5c-1.1 0-2 .9-2 2v14c0 1.1.9 2 2 2h14c1.1 0 2-.9 2-2V5c0-1.1-.9-2-2-2zM9 17H7v-7h2v7zm4 0h-2V7h2v10zm4 0h-2v-4h2v4z\"/>\n",
              "    </g>\n",
              "</svg>\n",
              "      </button>\n",
              "\n",
              "<style>\n",
              "  .colab-df-quickchart {\n",
              "      --bg-color: #E8F0FE;\n",
              "      --fill-color: #1967D2;\n",
              "      --hover-bg-color: #E2EBFA;\n",
              "      --hover-fill-color: #174EA6;\n",
              "      --disabled-fill-color: #AAA;\n",
              "      --disabled-bg-color: #DDD;\n",
              "  }\n",
              "\n",
              "  [theme=dark] .colab-df-quickchart {\n",
              "      --bg-color: #3B4455;\n",
              "      --fill-color: #D2E3FC;\n",
              "      --hover-bg-color: #434B5C;\n",
              "      --hover-fill-color: #FFFFFF;\n",
              "      --disabled-bg-color: #3B4455;\n",
              "      --disabled-fill-color: #666;\n",
              "  }\n",
              "\n",
              "  .colab-df-quickchart {\n",
              "    background-color: var(--bg-color);\n",
              "    border: none;\n",
              "    border-radius: 50%;\n",
              "    cursor: pointer;\n",
              "    display: none;\n",
              "    fill: var(--fill-color);\n",
              "    height: 32px;\n",
              "    padding: 0;\n",
              "    width: 32px;\n",
              "  }\n",
              "\n",
              "  .colab-df-quickchart:hover {\n",
              "    background-color: var(--hover-bg-color);\n",
              "    box-shadow: 0 1px 2px rgba(60, 64, 67, 0.3), 0 1px 3px 1px rgba(60, 64, 67, 0.15);\n",
              "    fill: var(--button-hover-fill-color);\n",
              "  }\n",
              "\n",
              "  .colab-df-quickchart-complete:disabled,\n",
              "  .colab-df-quickchart-complete:disabled:hover {\n",
              "    background-color: var(--disabled-bg-color);\n",
              "    fill: var(--disabled-fill-color);\n",
              "    box-shadow: none;\n",
              "  }\n",
              "\n",
              "  .colab-df-spinner {\n",
              "    border: 2px solid var(--fill-color);\n",
              "    border-color: transparent;\n",
              "    border-bottom-color: var(--fill-color);\n",
              "    animation:\n",
              "      spin 1s steps(1) infinite;\n",
              "  }\n",
              "\n",
              "  @keyframes spin {\n",
              "    0% {\n",
              "      border-color: transparent;\n",
              "      border-bottom-color: var(--fill-color);\n",
              "      border-left-color: var(--fill-color);\n",
              "    }\n",
              "    20% {\n",
              "      border-color: transparent;\n",
              "      border-left-color: var(--fill-color);\n",
              "      border-top-color: var(--fill-color);\n",
              "    }\n",
              "    30% {\n",
              "      border-color: transparent;\n",
              "      border-left-color: var(--fill-color);\n",
              "      border-top-color: var(--fill-color);\n",
              "      border-right-color: var(--fill-color);\n",
              "    }\n",
              "    40% {\n",
              "      border-color: transparent;\n",
              "      border-right-color: var(--fill-color);\n",
              "      border-top-color: var(--fill-color);\n",
              "    }\n",
              "    60% {\n",
              "      border-color: transparent;\n",
              "      border-right-color: var(--fill-color);\n",
              "    }\n",
              "    80% {\n",
              "      border-color: transparent;\n",
              "      border-right-color: var(--fill-color);\n",
              "      border-bottom-color: var(--fill-color);\n",
              "    }\n",
              "    90% {\n",
              "      border-color: transparent;\n",
              "      border-bottom-color: var(--fill-color);\n",
              "    }\n",
              "  }\n",
              "</style>\n",
              "\n",
              "      <script>\n",
              "        async function quickchart(key) {\n",
              "          const quickchartButtonEl =\n",
              "            document.querySelector('#' + key + ' button');\n",
              "          quickchartButtonEl.disabled = true;  // To prevent multiple clicks.\n",
              "          quickchartButtonEl.classList.add('colab-df-spinner');\n",
              "          try {\n",
              "            const charts = await google.colab.kernel.invokeFunction(\n",
              "                'suggestCharts', [key], {});\n",
              "          } catch (error) {\n",
              "            console.error('Error during call to suggestCharts:', error);\n",
              "          }\n",
              "          quickchartButtonEl.classList.remove('colab-df-spinner');\n",
              "          quickchartButtonEl.classList.add('colab-df-quickchart-complete');\n",
              "        }\n",
              "        (() => {\n",
              "          let quickchartButtonEl =\n",
              "            document.querySelector('#df-8a072ff7-55bc-4aaf-a556-4656574f2fe0 button');\n",
              "          quickchartButtonEl.style.display =\n",
              "            google.colab.kernel.accessAllowed ? 'block' : 'none';\n",
              "        })();\n",
              "      </script>\n",
              "    </div>\n",
              "\n",
              "  <div id=\"id_d6b6fe7a-f59e-4449-9511-136ec6b304cc\">\n",
              "    <style>\n",
              "      .colab-df-generate {\n",
              "        background-color: #E8F0FE;\n",
              "        border: none;\n",
              "        border-radius: 50%;\n",
              "        cursor: pointer;\n",
              "        display: none;\n",
              "        fill: #1967D2;\n",
              "        height: 32px;\n",
              "        padding: 0 0 0 0;\n",
              "        width: 32px;\n",
              "      }\n",
              "\n",
              "      .colab-df-generate:hover {\n",
              "        background-color: #E2EBFA;\n",
              "        box-shadow: 0px 1px 2px rgba(60, 64, 67, 0.3), 0px 1px 3px 1px rgba(60, 64, 67, 0.15);\n",
              "        fill: #174EA6;\n",
              "      }\n",
              "\n",
              "      [theme=dark] .colab-df-generate {\n",
              "        background-color: #3B4455;\n",
              "        fill: #D2E3FC;\n",
              "      }\n",
              "\n",
              "      [theme=dark] .colab-df-generate:hover {\n",
              "        background-color: #434B5C;\n",
              "        box-shadow: 0px 1px 3px 1px rgba(0, 0, 0, 0.15);\n",
              "        filter: drop-shadow(0px 1px 2px rgba(0, 0, 0, 0.3));\n",
              "        fill: #FFFFFF;\n",
              "      }\n",
              "    </style>\n",
              "    <button class=\"colab-df-generate\" onclick=\"generateWithVariable('X')\"\n",
              "            title=\"Generate code using this dataframe.\"\n",
              "            style=\"display:none;\">\n",
              "\n",
              "  <svg xmlns=\"http://www.w3.org/2000/svg\" height=\"24px\"viewBox=\"0 0 24 24\"\n",
              "       width=\"24px\">\n",
              "    <path d=\"M7,19H8.4L18.45,9,17,7.55,7,17.6ZM5,21V16.75L18.45,3.32a2,2,0,0,1,2.83,0l1.4,1.43a1.91,1.91,0,0,1,.58,1.4,1.91,1.91,0,0,1-.58,1.4L9.25,21ZM18.45,9,17,7.55Zm-12,3A5.31,5.31,0,0,0,4.9,8.1,5.31,5.31,0,0,0,1,6.5,5.31,5.31,0,0,0,4.9,4.9,5.31,5.31,0,0,0,6.5,1,5.31,5.31,0,0,0,8.1,4.9,5.31,5.31,0,0,0,12,6.5,5.46,5.46,0,0,0,6.5,12Z\"/>\n",
              "  </svg>\n",
              "    </button>\n",
              "    <script>\n",
              "      (() => {\n",
              "      const buttonEl =\n",
              "        document.querySelector('#id_d6b6fe7a-f59e-4449-9511-136ec6b304cc button.colab-df-generate');\n",
              "      buttonEl.style.display =\n",
              "        google.colab.kernel.accessAllowed ? 'block' : 'none';\n",
              "\n",
              "      buttonEl.onclick = () => {\n",
              "        google.colab.notebook.generateWithVariable('X');\n",
              "      }\n",
              "      })();\n",
              "    </script>\n",
              "  </div>\n",
              "\n",
              "    </div>\n",
              "  </div>\n"
            ],
            "application/vnd.google.colaboratory.intrinsic+json": {
              "type": "dataframe",
              "variable_name": "X",
              "summary": "{\n  \"name\": \"X\",\n  \"rows\": 97,\n  \"fields\": [\n    {\n      \"column\": \"ones\",\n      \"properties\": {\n        \"dtype\": \"number\",\n        \"std\": 0,\n        \"min\": 1,\n        \"max\": 1,\n        \"num_unique_values\": 1,\n        \"samples\": [\n          1\n        ],\n        \"semantic_type\": \"\",\n        \"description\": \"\"\n      }\n    },\n    {\n      \"column\": \"Population\",\n      \"properties\": {\n        \"dtype\": \"number\",\n        \"std\": 3.869883527882332,\n        \"min\": 5.0269,\n        \"max\": 22.203,\n        \"num_unique_values\": 97,\n        \"samples\": [\n          21.279\n        ],\n        \"semantic_type\": \"\",\n        \"description\": \"\"\n      }\n    }\n  ]\n}"
            }
          },
          "metadata": {},
          "execution_count": 47
        }
      ]
    },
    {
      "cell_type": "code",
      "source": [
        "X = np.array(X)\n",
        "y = np.array(y)"
      ],
      "metadata": {
        "id": "H4V1XvvhHT4G"
      },
      "id": "H4V1XvvhHT4G",
      "execution_count": 48,
      "outputs": []
    },
    {
      "cell_type": "code",
      "source": [
        "theta = np.zeros((2,1))"
      ],
      "metadata": {
        "id": "rbR8iTd7OLZY"
      },
      "id": "rbR8iTd7OLZY",
      "execution_count": 49,
      "outputs": []
    },
    {
      "cell_type": "code",
      "source": [
        "#Verify  the shape of X, y and theta using shape attribute\n",
        "\n",
        "X.shape"
      ],
      "metadata": {
        "id": "SN1wfUGVPvwd",
        "collapsed": true,
        "colab": {
          "base_uri": "https://localhost:8080/"
        },
        "outputId": "4adc943b-2784-49ea-f119-8161c3f8eab8"
      },
      "id": "SN1wfUGVPvwd",
      "execution_count": 50,
      "outputs": [
        {
          "output_type": "execute_result",
          "data": {
            "text/plain": [
              "(97, 2)"
            ]
          },
          "metadata": {},
          "execution_count": 50
        }
      ]
    },
    {
      "cell_type": "code",
      "source": [
        "y.shape"
      ],
      "metadata": {
        "id": "NhkJ71QWHCbO",
        "colab": {
          "base_uri": "https://localhost:8080/"
        },
        "outputId": "d9db831e-64ce-47ef-8e83-eb2b5a364b47"
      },
      "id": "NhkJ71QWHCbO",
      "execution_count": 51,
      "outputs": [
        {
          "output_type": "execute_result",
          "data": {
            "text/plain": [
              "(97, 1)"
            ]
          },
          "metadata": {},
          "execution_count": 51
        }
      ]
    },
    {
      "cell_type": "markdown",
      "id": "618cbdde",
      "metadata": {
        "id": "618cbdde"
      },
      "source": [
        "---\n",
        "\n",
        "## 🔢 Cost Function\n",
        "\n",
        "The objective of linear regression is to minimize the cost function:\n",
        "### Cost Function\n",
        "$$\n",
        "J(\\theta_0, \\theta_1) = \\frac{1}{2m} \\sum_{i=1}^m \\left( h_\\theta(x^{(i)}) - y^{(i)} \\right)^2\n",
        "$$\n",
        "\n",
        "### Hypothesis Function\n",
        "where  $$ \\hat{y}^{(i)}=h_\\theta(x^{(i)}) = \\theta_0 + \\theta_1 x^{(i)} $$ is the hypothesis.\n",
        "\n",
        "### ✏️ Exercise: compute_cost\n",
        "\n",
        "Complete the function below to compute cost."
      ]
    },
    {
      "cell_type": "code",
      "execution_count": 52,
      "metadata": {
        "id": "c1i0brDtPJdz"
      },
      "outputs": [],
      "source": [
        "# ========== TODO: Compute Cost ==========\n",
        "\n",
        "def compute_cost(X, y, theta):\n",
        "    \"\"\"\n",
        "    Compute cost for linear regression\n",
        "    Arguments:\n",
        "    X : feature matrix (m x 2)\n",
        "    y : target vector (m x 1)\n",
        "    theta : parameter vector (2 x 1)\n",
        "    \"\"\"\n",
        "    m = len(y)\n",
        "    # ====================YOUR CODE HERE==========================\n",
        "    predictions = X @ theta\n",
        "    sq_errors = (predictions - y)**2\n",
        "    J = (1/(2*m)) * np.sum(sq_errors)\n",
        "\n",
        "    # ============================================================\n",
        "    # Note: The cost is stored in J, not 'cost'. Update the return statement.\n",
        "    return J"
      ],
      "id": "c1i0brDtPJdz"
    },
    {
      "cell_type": "markdown",
      "source": [
        "**Below is a simple test cell to check your cost function. Run this to verify your output matches the expected value.**"
      ],
      "metadata": {
        "id": "joL17rgbLbYH"
      },
      "id": "joL17rgbLbYH"
    },
    {
      "cell_type": "code",
      "source": [
        "# === Test ===\n",
        "# Test cost at initial theta\n",
        "theta_test = np.zeros((2,1)) # Initialize as a NumPy array\n",
        "cost = compute_cost(X, y, theta_test)\n",
        "expected = 32.07  # Example expected cost value\n",
        "# Check if the cost is a pandas Series and extract the value\n",
        "if isinstance(cost, pd.Series):\n",
        "    cost = cost.iloc[0] # Assuming the first element is the cost value\n",
        "assert abs(cost - expected) < 1, f\"Cost function error: {cost} != {expected}\"\n",
        "print('✅ Cost function test passed.')"
      ],
      "metadata": {
        "id": "5fxcT_HsLXHe",
        "colab": {
          "base_uri": "https://localhost:8080/"
        },
        "outputId": "e84b6474-1812-4d89-f56b-10d02c01a862"
      },
      "id": "5fxcT_HsLXHe",
      "execution_count": 53,
      "outputs": [
        {
          "output_type": "stream",
          "name": "stdout",
          "text": [
            "✅ Cost function test passed.\n"
          ]
        }
      ]
    },
    {
      "cell_type": "markdown",
      "id": "bf269836",
      "metadata": {
        "id": "bf269836"
      },
      "source": [
        "---\n",
        "\n",
        "## 🚀 Gradient Descent\n",
        "\n",
        "You will now implement **gradient descent** to minimize the cost.\n",
        "\n",
        "Each iteration performs:\n",
        "$$\n",
        "\\theta_j := \\theta_j - \\alpha \\frac{1}{m} \\sum_{i=1}^m \\left( h_\\theta(x^{(i)}) - y^{(i)} \\right)x_j^{(i)}\n",
        "$$\n",
        "### ✏️ Exercise: gradient_descent\n",
        "\n",
        "Complete the gradient descent function below."
      ]
    },
    {
      "cell_type": "code",
      "execution_count": 54,
      "id": "0d171be1",
      "metadata": {
        "id": "0d171be1"
      },
      "outputs": [],
      "source": [
        "# ========== TODO: Gradient Descent ==========\n",
        "# === Gradient Descent ===\n",
        "def gradient_descent(X, y, theta, alpha, num_iters):\n",
        "    \"\"\"\n",
        "    Perform gradient descent to learn theta\n",
        "    \"\"\"\n",
        "    m = len(y)\n",
        "    cost_history = []\n",
        "\n",
        "    for i in range(num_iters):\n",
        "        # ====================== YOUR CODE HERE ======================\n",
        "        # TODO: perform a single gradient step on the parameter vector thet\n",
        "\n",
        "        theta -= alpha *((1/m) * (X.T @ ((X @ theta) - y)))\n",
        "\n",
        "        # ============================================================\n",
        "        # Store the cost in every iteration\n",
        "        cost = compute_cost(X, y, theta)\n",
        "        cost_history.append(cost)\n",
        "\n",
        "    return theta, cost_history"
      ]
    },
    {
      "cell_type": "markdown",
      "id": "3a163c4e",
      "metadata": {
        "id": "3a163c4e"
      },
      "source": [
        "### 🧪 Running Gradient Descent\n",
        "\n",
        "We’ll now run our `gradient_descent()` function."
      ]
    },
    {
      "cell_type": "code",
      "execution_count": 55,
      "id": "d968403a",
      "metadata": {
        "id": "d968403a",
        "colab": {
          "base_uri": "https://localhost:8080/"
        },
        "outputId": "55cc02a6-61e1-4775-9547-7e3a46079225"
      },
      "outputs": [
        {
          "output_type": "stream",
          "name": "stdout",
          "text": [
            "Theta found by gradient descent: [[-3.24140214]\n",
            " [ 1.1272942 ]]\n",
            "The optimized value of the cost (Theta) is  4.515955503078913\n"
          ]
        }
      ],
      "source": [
        "# Gradient descent settings\n",
        "iterations = 1000\n",
        "alpha = 0.01   # Learning rate\n",
        "\n",
        "# Run gradient descent\n",
        "Theta_updated, cost_history = gradient_descent(X, y, theta, alpha, iterations)\n",
        "\n",
        "# Print result\n",
        "print(\"Theta found by gradient descent:\", Theta_updated)\n",
        "print(\"The optimized value of the cost (Theta) is \" , compute_cost(X,y,Theta_updated))"
      ]
    },
    {
      "cell_type": "markdown",
      "id": "0c098449",
      "metadata": {
        "id": "0c098449"
      },
      "source": [
        "### 📈 Plotting the Linear Fit"
      ]
    },
    {
      "cell_type": "code",
      "execution_count": 56,
      "id": "f7b20094",
      "metadata": {
        "id": "f7b20094",
        "colab": {
          "base_uri": "https://localhost:8080/",
          "height": 480
        },
        "outputId": "1ccc3a4d-9b22-4469-cbe9-d548817010ab"
      },
      "outputs": [
        {
          "output_type": "display_data",
          "data": {
            "text/plain": [
              "<Figure size 800x500 with 1 Axes>"
            ],
            "image/png": "[encoded data removed]"
          },
          "metadata": {}
        }
      ],
      "source": [
        "# Plot the linear fit\n",
        "plt.figure(figsize=(8,5))\n",
        "plt.plot(X[:,1], y, 'rx', label='Training data')\n",
        "plt.plot(X[:,1], X @ theta, '-', label='Linear regression')\n",
        "plt.xlabel('Population of City (10,000s)')\n",
        "plt.ylabel('Profit ($10,000s)')\n",
        "plt.title('Linear Regression Fit')\n",
        "plt.legend()\n",
        "plt.show()"
      ]
    },
    {
      "cell_type": "markdown",
      "id": "f3b2b1f6",
      "metadata": {
        "id": "f3b2b1f6"
      },
      "source": [
        "### 📉 Plotting Cost vs. Iterations"
      ]
    },
    {
      "cell_type": "code",
      "execution_count": 57,
      "id": "26d2e417",
      "metadata": {
        "id": "26d2e417",
        "collapsed": true,
        "colab": {
          "base_uri": "https://localhost:8080/",
          "height": 403
        },
        "outputId": "4e1321f0-5037-4331-c082-fe2e041cf2bd"
      },
      "outputs": [
        {
          "output_type": "display_data",
          "data": {
            "text/plain": [
              "<Figure size 700x400 with 1 Axes>"
            ],
            "image/png": "[encoded data removed]"
          },
          "metadata": {}
        }
      ],
      "source": [
        "# Plot the cost function history\n",
        "plt.figure(figsize=(7,4))\n",
        "plt.plot(range(len(cost_history)), cost_history, 'b-')\n",
        "plt.xlabel('Number of iterations')\n",
        "plt.ylabel('Cost J')\n",
        "plt.title('Cost vs. Iterations')\n",
        "plt.show()"
      ]
    },
    {
      "cell_type": "markdown",
      "id": "bd87b68f",
      "metadata": {
        "id": "bd87b68f"
      },
      "source": [
        "### 🔮 Prediction\n",
        "\n",
        "Use the model to predict profits for populations of 35,000 and 70,000."
      ]
    },
    {
      "cell_type": "code",
      "execution_count": 58,
      "id": "648fc08c",
      "metadata": {
        "id": "648fc08c",
        "collapsed": true,
        "colab": {
          "base_uri": "https://localhost:8080/"
        },
        "outputId": "c9e9f7e5-ff14-43cf-f98e-5cf56033afad"
      },
      "outputs": [
        {
          "output_type": "stream",
          "name": "stdout",
          "text": [
            "For population = 35,000, we predict a profit of $7041.28\n",
            "For population = 70,000, we predict a profit of $46496.57\n"
          ]
        }
      ],
      "source": [
        "# Predict values for population sizes of 35,000 and 70,000\n",
        "predict1 = np.dot([1, 3.5], theta)\n",
        "predict2 = np.dot([1, 7.0], theta)\n",
        "print(f\"For population = 35,000, we predict a profit of ${predict1[0]*10000:.2f}\")\n",
        "print(f\"For population = 70,000, we predict a profit of ${predict2[0]*10000:.2f}\")"
      ]
    },
    {
      "cell_type": "markdown",
      "source": [
        "# **Case 1 : Run this whole code for three different iteration 1k , 2k , 3k**\n",
        "\n",
        "\n",
        "\n"
      ],
      "metadata": {
        "id": "RQTaf6JQR2xQ"
      },
      "id": "RQTaf6JQR2xQ"
    },
    {
      "cell_type": "code",
      "source": [
        "iterations_list = [1000, 2000, 3000]\n",
        "alpha = 0.01\n",
        "\n",
        "for num_iterations in iterations_list:\n",
        "    theta = np.zeros((2, 1))\n",
        "    Theta_updated, cost_history = gradient_descent(X, y, theta, alpha, num_iterations)\n",
        "    final_cost = compute_cost(X, y, Theta_updated)\n",
        "\n",
        "    print(f\"For {num_iterations} iterations:\")\n",
        "    print(\"Theta found by gradient descent:\", Theta_updated)\n",
        "    print(\"The optimized value of the cost is:\", final_cost)\n",
        "\n",
        "    plt.figure(figsize=(7, 4))\n",
        "    plt.plot(range(len(cost_history)), cost_history, 'b-')\n",
        "    plt.xlabel('Number of iterations')\n",
        "    plt.ylabel('Cost J')\n",
        "    plt.title(f'Cost vs. Iterations ({num_iterations} iterations)')\n",
        "    plt.show()"
      ],
      "metadata": {
        "colab": {
          "base_uri": "https://localhost:8080/",
          "height": 1000
        },
        "id": "lx6MFT0Szrh-",
        "outputId": "7013ea2b-23d3-4c71-c7a7-e766d18a1837"
      },
      "id": "lx6MFT0Szrh-",
      "execution_count": 59,
      "outputs": [
        {
          "output_type": "stream",
          "name": "stdout",
          "text": [
            "For 1000 iterations:\n",
            "Theta found by gradient descent: [[-3.24140214]\n",
            " [ 1.1272942 ]]\n",
            "The optimized value of the cost is: 4.515955503078913\n"
          ]
        },
        {
          "output_type": "display_data",
          "data": {
            "text/plain": [
              "<Figure size 700x400 with 1 Axes>"
            ],
            "image/png": "[encoded data removed]"
          },
          "metadata": {}
        },
        {
          "output_type": "stream",
          "name": "stdout",
          "text": [
            "For 2000 iterations:\n",
            "Theta found by gradient descent: [[-3.78806857]\n",
            " [ 1.18221277]]\n",
            "The optimized value of the cost is: 4.47802760987997\n"
          ]
        },
        {
          "output_type": "display_data",
          "data": {
            "text/plain": [
              "<Figure size 700x400 with 1 Axes>"
            ],
            "image/png": "[encoded data removed]"
          },
          "metadata": {}
        },
        {
          "output_type": "stream",
          "name": "stdout",
          "text": [
            "For 3000 iterations:\n",
            "Theta found by gradient descent: [[-3.87805118]\n",
            " [ 1.1912525 ]]\n",
            "The optimized value of the cost is: 4.47699999352146\n"
          ]
        },
        {
          "output_type": "display_data",
          "data": {
            "text/plain": [
              "<Figure size 700x400 with 1 Axes>"
            ],
            "image/png": "[encoded data removed]"
          },
          "metadata": {}
        }
      ]
    },
    {
      "cell_type": "markdown",
      "source": [
        "# **Case 2 : Fix the iterations to 2k and learning rate to 0.01 , 0.0001 , 0.05**"
      ],
      "metadata": {
        "id": "DKXkLLsr1EwA"
      },
      "id": "DKXkLLsr1EwA"
    },
    {
      "cell_type": "code",
      "source": [
        "alpha_list = [0.01, 0.0001, 0.05]\n",
        "num_iters = 2000\n",
        "\n",
        "for alpha in alpha_list:\n",
        "    theta = np.zeros((2, 1))\n",
        "    Theta_updated, cost_history = gradient_descent(X, y, theta, alpha, num_iters)\n",
        "    final_cost = compute_cost(X, y, Theta_updated)\n",
        "\n",
        "    print(f\"For alpha = {alpha}:\")\n",
        "    print(\"Theta found by gradient descent:\", Theta_updated)\n",
        "    print(\"The optimized value of the cost is:\", final_cost)\n",
        "\n",
        "    plt.figure(figsize=(7, 4))\n",
        "    plt.plot(range(len(cost_history)), cost_history, 'b-')\n",
        "    plt.xlabel('Number of iterations')\n",
        "    plt.ylabel('Cost J')\n",
        "    plt.title(f'Cost vs. Iterations (alpha = {alpha})')\n",
        "    plt.show()"
      ],
      "metadata": {
        "colab": {
          "base_uri": "https://localhost:8080/",
          "height": 1000
        },
        "id": "Xx2ljSGB1DW9",
        "outputId": "79779a9c-81db-4afb-a58e-d79fc400d7d2"
      },
      "id": "Xx2ljSGB1DW9",
      "execution_count": 60,
      "outputs": [
        {
          "output_type": "stream",
          "name": "stdout",
          "text": [
            "For alpha = 0.01:\n",
            "Theta found by gradient descent: [[-3.78806857]\n",
            " [ 1.18221277]]\n",
            "The optimized value of the cost is: 4.47802760987997\n"
          ]
        },
        {
          "output_type": "display_data",
          "data": {
            "text/plain": [
              "<Figure size 700x400 with 1 Axes>"
            ],
            "image/png": "[encoded data removed]"
          },
          "metadata": {}
        },
        {
          "output_type": "stream",
          "name": "stdout",
          "text": [
            "For alpha = 0.0001:\n",
            "Theta found by gradient descent: [[-0.06104248]\n",
            " [ 0.80779252]]\n",
            "The optimized value of the cost is: 5.815725882066166\n"
          ]
        },
        {
          "output_type": "display_data",
          "data": {
            "text/plain": [
              "<Figure size 700x400 with 1 Axes>"
            ],
            "image/png": "[encoded data removed]"
          },
          "metadata": {}
        },
        {
          "output_type": "stream",
          "name": "stdout",
          "text": [
            "For alpha = 0.05:\n",
            "Theta found by gradient descent: [[nan]\n",
            " [nan]]\n",
            "The optimized value of the cost is: nan\n"
          ]
        },
        {
          "output_type": "stream",
          "name": "stderr",
          "text": [
            "/usr/local/lib/python3.11/dist-packages/numpy/_core/fromnumeric.py:86: RuntimeWarning: overflow encountered in reduce\n",
            "  return ufunc.reduce(obj, axis, dtype, out, **passkwargs)\n",
            "/tmp/ipython-input-2211561710.py:14: RuntimeWarning: overflow encountered in square\n",
            "  sq_errors = (predictions - y)**2\n",
            "/tmp/ipython-input-668161512.py:14: RuntimeWarning: overflow encountered in matmul\n",
            "  theta -= alpha *((1/m) * (X.T @ ((X @ theta) - y)))\n",
            "/tmp/ipython-input-668161512.py:14: RuntimeWarning: invalid value encountered in subtract\n",
            "  theta -= alpha *((1/m) * (X.T @ ((X @ theta) - y)))\n"
          ]
        },
        {
          "output_type": "display_data",
          "data": {
            "text/plain": [
              "<Figure size 700x400 with 1 Axes>"
            ],
            "image/png": "[encoded data removed]"
          },
          "metadata": {}
        }
      ]
    },
    {
      "cell_type": "markdown",
      "id": "6570bbc5",
      "metadata": {
        "id": "6570bbc5"
      },
      "source": [
        "---\n",
        "## 📖  **<font color='blue'><b>Part 2: Linear Regression with Multiple Variables**\n",
        "\n",
        "In this part, you'll implement linear regression with more than one feature.\n",
        "\n",
        "### 🏘️ Problem Statement\n",
        "\n",
        "Predict the price of a house using the dataset `ex2data2.csv`, which contains:\n",
        "\n",
        "- Size of the house (in square feet)\n",
        "- Number of bedrooms\n",
        "- Price of the house"
      ]
    },
    {
      "cell_type": "markdown",
      "id": "0cbfc6a8",
      "metadata": {
        "id": "0cbfc6a8"
      },
      "source": [
        "### 📈 Load and Inspect Data"
      ]
    },
    {
      "cell_type": "code",
      "execution_count": 61,
      "id": "294faa21",
      "metadata": {
        "id": "294faa21",
        "colab": {
          "base_uri": "https://localhost:8080/",
          "height": 206
        },
        "outputId": "7fe46e64-5bb7-45cc-ac8b-7a5549c5ef9f"
      },
      "outputs": [
        {
          "output_type": "display_data",
          "data": {
            "text/plain": [
              "   Size  Bedrooms   Price\n",
              "0  2104         3  399900\n",
              "1  1600         3  329900\n",
              "2  2400         3  369000\n",
              "3  1416         2  232000\n",
              "4  3000         4  539900"
            ],
            "text/html": [
              "\n",
              "  <div id=\"df-d8b42c5f-8371-41f1-84a0-bc2b7c154bb0\" class=\"colab-df-container\">\n",
              "    <div>\n",
              "<style scoped>\n",
              "    .dataframe tbody tr th:only-of-type {\n",
              "        vertical-align: middle;\n",
              "    }\n",
              "\n",
              "    .dataframe tbody tr th {\n",
              "        vertical-align: top;\n",
              "    }\n",
              "\n",
              "    .dataframe thead th {\n",
              "        text-align: right;\n",
              "    }\n",
              "</style>\n",
              "<table border=\"1\" class=\"dataframe\">\n",
              "  <thead>\n",
              "    <tr style=\"text-align: right;\">\n",
              "      <th></th>\n",
              "      <th>Size</th>\n",
              "      <th>Bedrooms</th>\n",
              "      <th>Price</th>\n",
              "    </tr>\n",
              "  </thead>\n",
              "  <tbody>\n",
              "    <tr>\n",
              "      <th>0</th>\n",
              "      <td>2104</td>\n",
              "      <td>3</td>\n",
              "      <td>399900</td>\n",
              "    </tr>\n",
              "    <tr>\n",
              "      <th>1</th>\n",
              "      <td>1600</td>\n",
              "      <td>3</td>\n",
              "      <td>329900</td>\n",
              "    </tr>\n",
              "    <tr>\n",
              "      <th>2</th>\n",
              "      <td>2400</td>\n",
              "      <td>3</td>\n",
              "      <td>369000</td>\n",
              "    </tr>\n",
              "    <tr>\n",
              "      <th>3</th>\n",
              "      <td>1416</td>\n",
              "      <td>2</td>\n",
              "      <td>232000</td>\n",
              "    </tr>\n",
              "    <tr>\n",
              "      <th>4</th>\n",
              "      <td>3000</td>\n",
              "      <td>4</td>\n",
              "      <td>539900</td>\n",
              "    </tr>\n",
              "  </tbody>\n",
              "</table>\n",
              "</div>\n",
              "    <div class=\"colab-df-buttons\">\n",
              "\n",
              "  <div class=\"colab-df-container\">\n",
              "    <button class=\"colab-df-convert\" onclick=\"convertToInteractive('df-d8b42c5f-8371-41f1-84a0-bc2b7c154bb0')\"\n",
              "            title=\"Convert this dataframe to an interactive table.\"\n",
              "            style=\"display:none;\">\n",
              "\n",
              "  <svg xmlns=\"http://www.w3.org/2000/svg\" height=\"24px\" viewBox=\"0 -960 960 960\">\n",
              "    <path d=\"M120-120v-720h720v720H120Zm60-500h600v-160H180v160Zm220 220h160v-160H400v160Zm0 220h160v-160H400v160ZM180-400h160v-160H180v160Zm440 0h160v-160H620v160ZM180-180h160v-160H180v160Zm440 0h160v-160H620v160Z\"/>\n",
              "  </svg>\n",
              "    </button>\n",
              "\n",
              "  <style>\n",
              "    .colab-df-container {\n",
              "      display:flex;\n",
              "      gap: 12px;\n",
              "    }\n",
              "\n",
              "    .colab-df-convert {\n",
              "      background-color: #E8F0FE;\n",
              "      border: none;\n",
              "      border-radius: 50%;\n",
              "      cursor: pointer;\n",
              "      display: none;\n",
              "      fill: #1967D2;\n",
              "      height: 32px;\n",
              "      padding: 0 0 0 0;\n",
              "      width: 32px;\n",
              "    }\n",
              "\n",
              "    .colab-df-convert:hover {\n",
              "      background-color: #E2EBFA;\n",
              "      box-shadow: 0px 1px 2px rgba(60, 64, 67, 0.3), 0px 1px 3px 1px rgba(60, 64, 67, 0.15);\n",
              "      fill: #174EA6;\n",
              "    }\n",
              "\n",
              "    .colab-df-buttons div {\n",
              "      margin-bottom: 4px;\n",
              "    }\n",
              "\n",
              "    [theme=dark] .colab-df-convert {\n",
              "      background-color: #3B4455;\n",
              "      fill: #D2E3FC;\n",
              "    }\n",
              "\n",
              "    [theme=dark] .colab-df-convert:hover {\n",
              "      background-color: #434B5C;\n",
              "      box-shadow: 0px 1px 3px 1px rgba(0, 0, 0, 0.15);\n",
              "      filter: drop-shadow(0px 1px 2px rgba(0, 0, 0, 0.3));\n",
              "      fill: #FFFFFF;\n",
              "    }\n",
              "  </style>\n",
              "\n",
              "    <script>\n",
              "      const buttonEl =\n",
              "        document.querySelector('#df-d8b42c5f-8371-41f1-84a0-bc2b7c154bb0 button.colab-df-convert');\n",
              "      buttonEl.style.display =\n",
              "        google.colab.kernel.accessAllowed ? 'block' : 'none';\n",
              "\n",
              "      async function convertToInteractive(key) {\n",
              "        const element = document.querySelector('#df-d8b42c5f-8371-41f1-84a0-bc2b7c154bb0');\n",
              "        const dataTable =\n",
              "          await google.colab.kernel.invokeFunction('convertToInteractive',\n",
              "                                                    [key], {});\n",
              "        if (!dataTable) return;\n",
              "\n",
              "        const docLinkHtml = 'Like what you see? Visit the ' +\n",
              "          '<a target=\"_blank\" href=https://colab.research.google.com/notebooks/data_table.ipynb>data table notebook</a>'\n",
              "          + ' to learn more about interactive tables.';\n",
              "        element.innerHTML = '';\n",
              "        dataTable['output_type'] = 'display_data';\n",
              "        await google.colab.output.renderOutput(dataTable, element);\n",
              "        const docLink = document.createElement('div');\n",
              "        docLink.innerHTML = docLinkHtml;\n",
              "        element.appendChild(docLink);\n",
              "      }\n",
              "    </script>\n",
              "  </div>\n",
              "\n",
              "\n",
              "    <div id=\"df-1d459579-92b4-4580-a98e-54942dedeb08\">\n",
              "      <button class=\"colab-df-quickchart\" onclick=\"quickchart('df-1d459579-92b4-4580-a98e-54942dedeb08')\"\n",
              "                title=\"Suggest charts\"\n",
              "                style=\"display:none;\">\n",
              "\n",
              "<svg xmlns=\"http://www.w3.org/2000/svg\" height=\"24px\"viewBox=\"0 0 24 24\"\n",
              "     width=\"24px\">\n",
              "    <g>\n",
              "        <path d=\"M19 3H5c-1.1 0-2 .9-2 2v14c0 1.1.9 2 2 2h14c1.1 0 2-.9 2-2V5c0-1.1-.9-2-2-2zM9 17H7v-7h2v7zm4 0h-2V7h2v10zm4 0h-2v-4h2v4z\"/>\n",
              "    </g>\n",
              "</svg>\n",
              "      </button>\n",
              "\n",
              "<style>\n",
              "  .colab-df-quickchart {\n",
              "      --bg-color: #E8F0FE;\n",
              "      --fill-color: #1967D2;\n",
              "      --hover-bg-color: #E2EBFA;\n",
              "      --hover-fill-color: #174EA6;\n",
              "      --disabled-fill-color: #AAA;\n",
              "      --disabled-bg-color: #DDD;\n",
              "  }\n",
              "\n",
              "  [theme=dark] .colab-df-quickchart {\n",
              "      --bg-color: #3B4455;\n",
              "      --fill-color: #D2E3FC;\n",
              "      --hover-bg-color: #434B5C;\n",
              "      --hover-fill-color: #FFFFFF;\n",
              "      --disabled-bg-color: #3B4455;\n",
              "      --disabled-fill-color: #666;\n",
              "  }\n",
              "\n",
              "  .colab-df-quickchart {\n",
              "    background-color: var(--bg-color);\n",
              "    border: none;\n",
              "    border-radius: 50%;\n",
              "    cursor: pointer;\n",
              "    display: none;\n",
              "    fill: var(--fill-color);\n",
              "    height: 32px;\n",
              "    padding: 0;\n",
              "    width: 32px;\n",
              "  }\n",
              "\n",
              "  .colab-df-quickchart:hover {\n",
              "    background-color: var(--hover-bg-color);\n",
              "    box-shadow: 0 1px 2px rgba(60, 64, 67, 0.3), 0 1px 3px 1px rgba(60, 64, 67, 0.15);\n",
              "    fill: var(--button-hover-fill-color);\n",
              "  }\n",
              "\n",
              "  .colab-df-quickchart-complete:disabled,\n",
              "  .colab-df-quickchart-complete:disabled:hover {\n",
              "    background-color: var(--disabled-bg-color);\n",
              "    fill: var(--disabled-fill-color);\n",
              "    box-shadow: none;\n",
              "  }\n",
              "\n",
              "  .colab-df-spinner {\n",
              "    border: 2px solid var(--fill-color);\n",
              "    border-color: transparent;\n",
              "    border-bottom-color: var(--fill-color);\n",
              "    animation:\n",
              "      spin 1s steps(1) infinite;\n",
              "  }\n",
              "\n",
              "  @keyframes spin {\n",
              "    0% {\n",
              "      border-color: transparent;\n",
              "      border-bottom-color: var(--fill-color);\n",
              "      border-left-color: var(--fill-color);\n",
              "    }\n",
              "    20% {\n",
              "      border-color: transparent;\n",
              "      border-left-color: var(--fill-color);\n",
              "      border-top-color: var(--fill-color);\n",
              "    }\n",
              "    30% {\n",
              "      border-color: transparent;\n",
              "      border-left-color: var(--fill-color);\n",
              "      border-top-color: var(--fill-color);\n",
              "      border-right-color: var(--fill-color);\n",
              "    }\n",
              "    40% {\n",
              "      border-color: transparent;\n",
              "      border-right-color: var(--fill-color);\n",
              "      border-top-color: var(--fill-color);\n",
              "    }\n",
              "    60% {\n",
              "      border-color: transparent;\n",
              "      border-right-color: var(--fill-color);\n",
              "    }\n",
              "    80% {\n",
              "      border-color: transparent;\n",
              "      border-right-color: var(--fill-color);\n",
              "      border-bottom-color: var(--fill-color);\n",
              "    }\n",
              "    90% {\n",
              "      border-color: transparent;\n",
              "      border-bottom-color: var(--fill-color);\n",
              "    }\n",
              "  }\n",
              "</style>\n",
              "\n",
              "      <script>\n",
              "        async function quickchart(key) {\n",
              "          const quickchartButtonEl =\n",
              "            document.querySelector('#' + key + ' button');\n",
              "          quickchartButtonEl.disabled = true;  // To prevent multiple clicks.\n",
              "          quickchartButtonEl.classList.add('colab-df-spinner');\n",
              "          try {\n",
              "            const charts = await google.colab.kernel.invokeFunction(\n",
              "                'suggestCharts', [key], {});\n",
              "          } catch (error) {\n",
              "            console.error('Error during call to suggestCharts:', error);\n",
              "          }\n",
              "          quickchartButtonEl.classList.remove('colab-df-spinner');\n",
              "          quickchartButtonEl.classList.add('colab-df-quickchart-complete');\n",
              "        }\n",
              "        (() => {\n",
              "          let quickchartButtonEl =\n",
              "            document.querySelector('#df-1d459579-92b4-4580-a98e-54942dedeb08 button');\n",
              "          quickchartButtonEl.style.display =\n",
              "            google.colab.kernel.accessAllowed ? 'block' : 'none';\n",
              "        })();\n",
              "      </script>\n",
              "    </div>\n",
              "\n",
              "    </div>\n",
              "  </div>\n"
            ],
            "application/vnd.google.colaboratory.intrinsic+json": {
              "type": "dataframe",
              "summary": "{\n  \"name\": \"display(data2\",\n  \"rows\": 5,\n  \"fields\": [\n    {\n      \"column\": \"Size\",\n      \"properties\": {\n        \"dtype\": \"number\",\n        \"std\": 635,\n        \"min\": 1416,\n        \"max\": 3000,\n        \"num_unique_values\": 5,\n        \"samples\": [\n          1600,\n          3000,\n          2400\n        ],\n        \"semantic_type\": \"\",\n        \"description\": \"\"\n      }\n    },\n    {\n      \"column\": \"Bedrooms\",\n      \"properties\": {\n        \"dtype\": \"number\",\n        \"std\": 0,\n        \"min\": 2,\n        \"max\": 4,\n        \"num_unique_values\": 3,\n        \"samples\": [\n          3,\n          2,\n          4\n        ],\n        \"semantic_type\": \"\",\n        \"description\": \"\"\n      }\n    },\n    {\n      \"column\": \"Price\",\n      \"properties\": {\n        \"dtype\": \"number\",\n        \"std\": 112168,\n        \"min\": 232000,\n        \"max\": 539900,\n        \"num_unique_values\": 5,\n        \"samples\": [\n          329900,\n          539900,\n          369000\n        ],\n        \"semantic_type\": \"\",\n        \"description\": \"\"\n      }\n    }\n  ]\n}"
            }
          },
          "metadata": {}
        }
      ],
      "source": [
        "# Load Data\n",
        "data2 = pd.read_csv(\"/content/ex1data2.csv\", header=None, names=[\"Size\", \"Bedrooms\", \"Price\"])\n",
        "\n",
        "# Extract features and target\n",
        "X_multi = data2[[\"Size\", \"Bedrooms\"]]\n",
        "y_multi = data2[[\"Price\"]]\n",
        "m_multi = len(y_multi)\n",
        "\n",
        "# Display first few rows of the data\n",
        "display(data2.head())"
      ]
    },
    {
      "cell_type": "markdown",
      "id": "ab771c61",
      "metadata": {
        "id": "ab771c61"
      },
      "source": [
        "---\n",
        "\n",
        "### ⚖️ Feature Normalization\n",
        "\n",
        "It’s important to scale features when using gradient descent with multiple variables.\n",
        "\n",
        "Each feature is normalized as:\n",
        "\n",
        "$$\n",
        "x_i := \\frac{x_i - \\mu}{\\sigma}\n",
        "$$\n",
        "\n",
        "### ✏️ Exercise: feature_normalize\n",
        "\n",
        "Complete the function below to normalize features."
      ]
    },
    {
      "cell_type": "code",
      "execution_count": 62,
      "id": "49d152e7",
      "metadata": {
        "id": "49d152e7"
      },
      "outputs": [],
      "source": [
        "# ========== TODO: Feature Normalization ==========\n",
        "def feature_normalize(X):\n",
        "    \"\"\"Normalize features by subtracting mean and dividing by std dev\"\"\"\n",
        "    # TODO: compute mean and std, normalize features\n",
        "    mu = np.mean(X, axis=0)\n",
        "    sigma = np.std(X, axis=0)\n",
        "    X_norm = (X - mu) / sigma\n",
        "    # Add intercept term in X_norm\n",
        "    X_norm = np.insert(X_norm, 0, 1, axis=1)\n",
        "\n",
        "    return X_norm, mu, sigma"
      ]
    },
    {
      "cell_type": "markdown",
      "id": "d2ecfa68",
      "metadata": {
        "id": "d2ecfa68"
      },
      "source": [
        "---\n",
        "\n",
        "### 🔢 Cost Function (Multivariate)\n",
        "\n",
        "Implement the vectorized cost function:\n",
        "\n",
        "$$\n",
        "J(\\theta) = \\frac{1}{2m} (X\\theta - y)^T (X\\theta - y)\n",
        "$$\n",
        "\n",
        "### ✏️ Exercise: compute_cost_multi"
      ]
    },
    {
      "cell_type": "code",
      "execution_count": 63,
      "id": "1d5abb16",
      "metadata": {
        "id": "1d5abb16"
      },
      "outputs": [],
      "source": [
        "# ========== TODO: Vectorized Cost Function ==========\n",
        "def compute_cost_multi(X, y, theta):\n",
        "    \"\"\"Compute cost for linear regression with multiple variables\"\"\"\n",
        "    m = y.size\n",
        "    J = (1/(2*m)) * np.sum((X @ theta - y)**2)\n",
        "    # TODO: compute cost using vectorized operations\n",
        "    return J"
      ]
    },
    {
      "cell_type": "markdown",
      "id": "d44bdd75",
      "metadata": {
        "id": "d44bdd75"
      },
      "source": [
        "---\n",
        "\n",
        "### 🚀 Gradient Descent (Multivariate)\n",
        "\n",
        "Now implement gradient descent using matrix operations:\n",
        "\n",
        "$$\n",
        "\\theta := \\theta - \\frac{\\alpha}{m} X^T (X\\theta - y)\n",
        "$$\n",
        "\n",
        "### ✏️ Exercise: gradient_descent_multi"
      ]
    },
    {
      "cell_type": "code",
      "execution_count": 64,
      "id": "24ccb10d",
      "metadata": {
        "id": "24ccb10d"
      },
      "outputs": [],
      "source": [
        "# ========== TODO: Vectorized Gradient Descent ==========\n",
        "def gradient_descent_multi(X, y, theta, alpha, num_iters):\n",
        "    \"\"\"Performs gradient descent to learn theta with multiple variables\"\"\"\n",
        "    m = y.size\n",
        "    J_history = []\n",
        "\n",
        "    for i in range(num_iters):\n",
        "        error = X @ theta - y\n",
        "        gradient = (1/m) * (X.T @ error)\n",
        "        theta -= alpha * gradient\n",
        "        cost = compute_cost_multi(X, y, theta)\n",
        "        J_history.append(cost)\n",
        "\n",
        "    return theta, J_history"
      ]
    },
    {
      "cell_type": "markdown",
      "id": "d8a2ec2d",
      "metadata": {
        "id": "d8a2ec2d"
      },
      "source": [
        "---\n",
        "\n",
        "### 🧪 Normalize, Train, and Plot\n",
        "\n",
        "Run gradient descent using your normalized features and functions."
      ]
    },
    {
      "cell_type": "code",
      "source": [
        "# Normalize features using feature_normalize() function\n",
        "X_norm_multi, mu, sigma = feature_normalize(X_multi)"
      ],
      "metadata": {
        "id": "IoxB87dRbV2D"
      },
      "id": "IoxB87dRbV2D",
      "execution_count": 65,
      "outputs": []
    },
    {
      "cell_type": "code",
      "source": [
        "# Convert X, and y to numpy array\n",
        "X_multi = np.array(X_multi)\n",
        "y_multi = np.array(y_multi)"
      ],
      "metadata": {
        "id": "7tTJ83TicWuC"
      },
      "id": "7tTJ83TicWuC",
      "execution_count": 66,
      "outputs": []
    },
    {
      "cell_type": "code",
      "source": [
        "# Initialize paraemters theta\n",
        "theta_multi = np.zeros((3, 1))"
      ],
      "metadata": {
        "id": "a1_qUX1Kcg5-"
      },
      "id": "a1_qUX1Kcg5-",
      "execution_count": 67,
      "outputs": []
    },
    {
      "cell_type": "code",
      "source": [
        "#Verify  the shape of X_multi, y_multi and theta_multi using shape attribute\n",
        "print(\"Shape of X_multi:\", X_multi.shape)\n",
        "print(\"Shape of y_multi:\", y_multi.shape)\n",
        "print(\"Shape of theta_multi:\", theta_multi.shape)"
      ],
      "metadata": {
        "id": "Fda73Az9crf8",
        "colab": {
          "base_uri": "https://localhost:8080/"
        },
        "outputId": "6d4261fd-12c8-4d96-aaa1-eeb8cbd31e0b"
      },
      "id": "Fda73Az9crf8",
      "execution_count": 68,
      "outputs": [
        {
          "output_type": "stream",
          "name": "stdout",
          "text": [
            "Shape of X_multi: (47, 2)\n",
            "Shape of y_multi: (47, 1)\n",
            "Shape of theta_multi: (3, 1)\n"
          ]
        }
      ]
    },
    {
      "cell_type": "code",
      "execution_count": 69,
      "id": "100029ba",
      "metadata": {
        "id": "100029ba",
        "collapsed": true,
        "colab": {
          "base_uri": "https://localhost:8080/",
          "height": 465
        },
        "outputId": "c5651e43-4245-44a5-deb1-7d8028833202"
      },
      "outputs": [
        {
          "output_type": "display_data",
          "data": {
            "text/plain": [
              "<Figure size 640x480 with 1 Axes>"
            ],
            "image/png": "[encoded data removed]"
          },
          "metadata": {}
        }
      ],
      "source": [
        "# Initialize hyperparameters\n",
        "alpha = 0.01\n",
        "num_iters = 400\n",
        "\n",
        "# Run gradient descent\n",
        "theta_multi, J_history_multi = gradient_descent_multi(X_norm_multi, y_multi, theta_multi, alpha, num_iters)\n",
        "\n",
        "# Plot cost vs. iterations\n",
        "plt.plot(range(len(J_history_multi)), J_history_multi, 'b-')\n",
        "plt.xlabel('Iterations')\n",
        "plt.ylabel('Cost J')\n",
        "plt.title('Cost vs. Iterations (Multivariate)')\n",
        "plt.show()"
      ]
    },
    {
      "cell_type": "markdown",
      "id": "6a192246",
      "metadata": {
        "id": "6a192246"
      },
      "source": [
        "---\n",
        "\n",
        "### 🔮 Final Prediction\n",
        "\n",
        "Estimate the price of a house with:\n",
        "\n",
        "- 1650 sq-ft\n",
        "- 3 bedrooms"
      ]
    },
    {
      "cell_type": "code",
      "execution_count": 70,
      "id": "6ca18eb1",
      "metadata": {
        "id": "6ca18eb1",
        "colab": {
          "base_uri": "https://localhost:8080/"
        },
        "outputId": "e1c1eae3-ab88-45af-8916-332007a4a783"
      },
      "outputs": [
        {
          "output_type": "stream",
          "name": "stdout",
          "text": [
            "Predicted price of a 1650 sq-ft, 3 br house: $289221.55\n"
          ]
        }
      ],
      "source": [
        "# Predict for a 1650 sq-ft, 3-bedroom house\n",
        "test_features = np.array([1650, 3])\n",
        "norm_features = (test_features - mu) / sigma\n",
        "test_input = np.concatenate(([1], norm_features))\n",
        "\n",
        "price = np.dot(test_input, theta_multi)\n",
        "print(f\"Predicted price of a 1650 sq-ft, 3 br house: ${price[0]:.2f}\")"
      ]
    },
    {
      "cell_type": "markdown",
      "source": [
        "---\n",
        "\n",
        "## **Final Note**\n",
        "\n",
        "**Once all the cells above run without errors and your predictions match expectations, you're ready to submit!**\n",
        "\n",
        "**Make sure you've completed all the `# TODO` blocks and verified outputs with the provided tests.** 🎉"
      ],
      "metadata": {
        "id": "OS69BFsVffKV"
      },
      "id": "OS69BFsVffKV"
    },
    {
      "cell_type": "markdown",
      "id": "72610e0f",
      "metadata": {
        "id": "72610e0f"
      },
      "source": [
        "---\n",
        "\n",
        "## 🎉 **Congratulations! **🎉\n",
        "\n",
        "You have successfully completed the implementation of:\n",
        "\n",
        "\n",
        "*  ✅ Linear Regression with One Variable\n",
        "*  ✅ Linear Regression with Multiple Variables\n",
        "*  ✅ Feature Normalization\n",
        "*  ✅ Vectorized Cost Function and Gradient Descent\n",
        "*  ✅ Cost vs. Iteration Visualization\n",
        "*  ✅ Real-world Predictions with your Model\n",
        "\n",
        "This is a big step in your machine learning journey. 🚀\n",
        "Keep up the great work and get ready to tackle even more exciting algorithms ahead!\n",
        "\n",
        "💡 Tip: Review your plots, test results, and predictions to solidify your understanding.\n",
        "\n",
        "See you in the next lab!\n",
        "Happy codding!\n"
      ]
    }
  ],
  "metadata": {
    "colab": {
      "provenance": [],
      "include_colab_link": true
    },
    "language_info": {
      "name": "python"
    },
    "kernelspec": {
      "name": "python3",
      "display_name": "Python 3"
    }
  },
  "nbformat": 4,
  "nbformat_minor": 5
}